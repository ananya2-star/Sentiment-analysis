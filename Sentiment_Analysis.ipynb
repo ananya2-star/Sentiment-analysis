{
  "nbformat": 4,
  "nbformat_minor": 0,
  "metadata": {
    "colab": {
      "provenance": [],
      "authorship_tag": "ABX9TyNkfgVVBHZFnx9V7R/NarZ0",
      "include_colab_link": true
    },
    "kernelspec": {
      "name": "python3",
      "display_name": "Python 3"
    },
    "language_info": {
      "name": "python"
    }
  },
  "cells": [
    {
      "cell_type": "markdown",
      "metadata": {
        "id": "view-in-github",
        "colab_type": "text"
      },
      "source": [
        "<a href=\"https://colab.research.google.com/github/ananya2-star/Sentiment-analysis/blob/main/Sentiment_Analysis.ipynb\" target=\"_parent\"><img src=\"https://colab.research.google.com/assets/colab-badge.svg\" alt=\"Open In Colab\"/></a>"
      ]
    },
    {
      "cell_type": "code",
      "execution_count": null,
      "metadata": {
        "id": "yvuCnX0YIUsJ",
        "colab": {
          "base_uri": "https://localhost:8080/"
        },
        "outputId": "0bdc3930-cde2-4a10-8885-f03737da6727"
      },
      "outputs": [
        {
          "output_type": "stream",
          "name": "stdout",
          "text": [
            "Requirement already satisfied: textblob in /usr/local/lib/python3.11/dist-packages (0.17.1)\n",
            "Requirement already satisfied: nltk>=3.1 in /usr/local/lib/python3.11/dist-packages (from textblob) (3.9.1)\n",
            "Requirement already satisfied: click in /usr/local/lib/python3.11/dist-packages (from nltk>=3.1->textblob) (8.1.8)\n",
            "Requirement already satisfied: joblib in /usr/local/lib/python3.11/dist-packages (from nltk>=3.1->textblob) (1.4.2)\n",
            "Requirement already satisfied: regex>=2021.8.3 in /usr/local/lib/python3.11/dist-packages (from nltk>=3.1->textblob) (2024.11.6)\n",
            "Requirement already satisfied: tqdm in /usr/local/lib/python3.11/dist-packages (from nltk>=3.1->textblob) (4.67.1)\n"
          ]
        }
      ],
      "source": [
        "pip install textblob"
      ]
    },
    {
      "cell_type": "code",
      "source": [
        "from textblob import TextBlob"
      ],
      "metadata": {
        "id": "8wBuqS9hPKx1"
      },
      "execution_count": null,
      "outputs": []
    },
    {
      "cell_type": "code",
      "source": [
        "# Sample dataset\n",
        "dataset = [\n",
        " \"I love this movie!\",\n",
        " \"The weather is great today.\",\n",
        " \"I feel so sad about what happened.\",\n",
        " \"This food is terrible.\",\n",
        " \"The concert was amazing!\",\n",
        "]"
      ],
      "metadata": {
        "id": "WVukgfhTPWKH"
      },
      "execution_count": null,
      "outputs": []
    },
    {
      "cell_type": "code",
      "source": [
        "print(dataset)"
      ],
      "metadata": {
        "colab": {
          "base_uri": "https://localhost:8080/"
        },
        "id": "XwIKOLE8PhQm",
        "outputId": "650074ee-478d-42b5-b7b2-5a7673c3461a"
      },
      "execution_count": null,
      "outputs": [
        {
          "output_type": "stream",
          "name": "stdout",
          "text": [
            "['I love this movie!', 'The weather is great today.', 'I feel so sad about what happened.', 'This food is terrible.', 'The concert was amazing!']\n"
          ]
        }
      ]
    },
    {
      "cell_type": "code",
      "source": [
        "import nltk\n",
        "nltk.download('stopwords')"
      ],
      "metadata": {
        "colab": {
          "base_uri": "https://localhost:8080/"
        },
        "id": "Nck8Uw6JPktK",
        "outputId": "b208d9fa-d70c-4a40-e5fe-2912009ec466"
      },
      "execution_count": null,
      "outputs": [
        {
          "output_type": "stream",
          "name": "stderr",
          "text": [
            "[nltk_data] Downloading package stopwords to /root/nltk_data...\n",
            "[nltk_data]   Unzipping corpora/stopwords.zip.\n"
          ]
        },
        {
          "output_type": "execute_result",
          "data": {
            "text/plain": [
              "True"
            ]
          },
          "metadata": {},
          "execution_count": 16
        }
      ]
    },
    {
      "cell_type": "code",
      "source": [
        "from nltk.corpus import stopwords\n",
        "stopwords= stopwords.words('english')"
      ],
      "metadata": {
        "id": "1bNPpEagPqju"
      },
      "execution_count": null,
      "outputs": []
    },
    {
      "cell_type": "code",
      "source": [
        "print(stopwords)"
      ],
      "metadata": {
        "colab": {
          "base_uri": "https://localhost:8080/"
        },
        "id": "UYKeRRrbPumv",
        "outputId": "2167b762-783f-40bb-fe96-2fdcba2f1c01"
      },
      "execution_count": null,
      "outputs": [
        {
          "output_type": "stream",
          "name": "stdout",
          "text": [
            "['i', 'me', 'my', 'myself', 'we', 'our', 'ours', 'ourselves', 'you', \"you're\", \"you've\", \"you'll\", \"you'd\", 'your', 'yours', 'yourself', 'yourselves', 'he', 'him', 'his', 'himself', 'she', \"she's\", 'her', 'hers', 'herself', 'it', \"it's\", 'its', 'itself', 'they', 'them', 'their', 'theirs', 'themselves', 'what', 'which', 'who', 'whom', 'this', 'that', \"that'll\", 'these', 'those', 'am', 'is', 'are', 'was', 'were', 'be', 'been', 'being', 'have', 'has', 'had', 'having', 'do', 'does', 'did', 'doing', 'a', 'an', 'the', 'and', 'but', 'if', 'or', 'because', 'as', 'until', 'while', 'of', 'at', 'by', 'for', 'with', 'about', 'against', 'between', 'into', 'through', 'during', 'before', 'after', 'above', 'below', 'to', 'from', 'up', 'down', 'in', 'out', 'on', 'off', 'over', 'under', 'again', 'further', 'then', 'once', 'here', 'there', 'when', 'where', 'why', 'how', 'all', 'any', 'both', 'each', 'few', 'more', 'most', 'other', 'some', 'such', 'no', 'nor', 'not', 'only', 'own', 'same', 'so', 'than', 'too', 'very', 's', 't', 'can', 'will', 'just', 'don', \"don't\", 'should', \"should've\", 'now', 'd', 'll', 'm', 'o', 're', 've', 'y', 'ain', 'aren', \"aren't\", 'couldn', \"couldn't\", 'didn', \"didn't\", 'doesn', \"doesn't\", 'hadn', \"hadn't\", 'hasn', \"hasn't\", 'haven', \"haven't\", 'isn', \"isn't\", 'ma', 'mightn', \"mightn't\", 'mustn', \"mustn't\", 'needn', \"needn't\", 'shan', \"shan't\", 'shouldn', \"shouldn't\", 'wasn', \"wasn't\", 'weren', \"weren't\", 'won', \"won't\", 'wouldn', \"wouldn't\"]\n"
          ]
        }
      ]
    },
    {
      "cell_type": "code",
      "source": [
        "response_words= \"\"\n",
        "for i in dataset:\n",
        "  i= str(i)\n",
        "  separate= i.split()\n",
        "  for j in range(len(separate)):\n",
        "      separate[j]= separate[j].lower()\n",
        "  response_words += \" \".join(separate)+ \" \"\n",
        "  filtered_words = [word for word in response_words.split() if word not in stopwords]"
      ],
      "metadata": {
        "id": "ui2-tneuPzBF"
      },
      "execution_count": null,
      "outputs": []
    },
    {
      "cell_type": "code",
      "source": [
        "filtered_words"
      ],
      "metadata": {
        "colab": {
          "base_uri": "https://localhost:8080/"
        },
        "id": "RgR0gd-ZQog-",
        "outputId": "421ed8a6-fdfb-4729-bbe6-03982ed270be"
      },
      "execution_count": null,
      "outputs": [
        {
          "output_type": "execute_result",
          "data": {
            "text/plain": [
              "['love',\n",
              " 'movie!',\n",
              " 'weather',\n",
              " 'great',\n",
              " 'today.',\n",
              " 'feel',\n",
              " 'sad',\n",
              " 'happened.',\n",
              " 'food',\n",
              " 'terrible.',\n",
              " 'concert',\n",
              " 'amazing!']"
            ]
          },
          "metadata": {},
          "execution_count": 27
        }
      ]
    },
    {
      "cell_type": "code",
      "source": [
        "words = \" \"\n",
        "for k in filtered_words:\n",
        " s= k.split()\n",
        "for j in range(len(s)):\n",
        " s[j] = s[j].lower()\n",
        " words += \" \".join(s)+ \" \""
      ],
      "metadata": {
        "id": "U0jLZR2WRNQX"
      },
      "execution_count": null,
      "outputs": []
    },
    {
      "cell_type": "code",
      "source": [
        "print(words)"
      ],
      "metadata": {
        "colab": {
          "base_uri": "https://localhost:8080/"
        },
        "id": "dYN4_6ywRVbF",
        "outputId": "b72eef45-ad01-4a68-aaca-f1edd5ab5221"
      },
      "execution_count": null,
      "outputs": [
        {
          "output_type": "stream",
          "name": "stdout",
          "text": [
            " amazing! \n"
          ]
        }
      ]
    },
    {
      "cell_type": "code",
      "source": [
        "# Function to perform sentiment analysis\n",
        "def analyze_sentiment(text):\n",
        " analysis = TextBlob(text)\n",
        " # Sentiment polarity ranges from -1 to 1\n",
        " if analysis.sentiment.polarity > 0:\n",
        "  return 'Positive'\n",
        " elif analysis.sentiment.polarity == 0:\n",
        "  return 'Neutral'\n",
        " else:\n",
        "  return 'Negative'"
      ],
      "metadata": {
        "id": "rL8pZO_vSRBN"
      },
      "execution_count": null,
      "outputs": []
    },
    {
      "cell_type": "code",
      "source": [
        "# Analyzing sentiment for each text in the dataset\n",
        "for text in dataset:\n",
        " sentiment = analyze_sentiment(text)\n",
        " print(f'Text: {text}')\n",
        " print(f'Sentiment: {sentiment}')\n",
        " print()"
      ],
      "metadata": {
        "id": "7dOu-ZAdVdtQ",
        "outputId": "535b9bc7-8679-4986-8062-22a4fc38e07f",
        "colab": {
          "base_uri": "https://localhost:8080/"
        }
      },
      "execution_count": null,
      "outputs": [
        {
          "output_type": "stream",
          "name": "stdout",
          "text": [
            "Text: I love this movie!\n",
            "Sentiment: Positive\n",
            "\n",
            "Text: The weather is great today.\n",
            "Sentiment: Positive\n",
            "\n",
            "Text: I feel so sad about what happened.\n",
            "Sentiment: Negative\n",
            "\n",
            "Text: This food is terrible.\n",
            "Sentiment: Negative\n",
            "\n",
            "Text: The concert was amazing!\n",
            "Sentiment: Positive\n",
            "\n"
          ]
        }
      ]
    }
  ]
}